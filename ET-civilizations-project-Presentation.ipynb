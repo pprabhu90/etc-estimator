{
 "cells": [
  {
   "cell_type": "markdown",
   "id": "0047d5fa-998b-4b10-a6a2-6da1797b7f39",
   "metadata": {},
   "source": [
    "# Extraterrestrial Diplomatic Service Project: Presentation"
   ]
  },
  {
   "cell_type": "markdown",
   "id": "1d54da58-38c1-44c7-8999-d577ceb49bfa",
   "metadata": {},
   "source": [
    "#### The Problem Statement\n",
    "\n",
    "It's 2733, and you are a data scientist for the Extraterrestrial Diplomatic Service. The Service is regularly tasked with providing guidance to the Galactic Council on potential trade and business relations with extraterrestrial civilizations. This analysis helps the Council in understanding the potential for fruitful collaborations.\n",
    "\n",
    "At the annual meeting of the Extraterrestrial Diplomatic Service, presenters highlighted the success of several joint space missions conducted in collaboration with extraterrestrial civilizations. They suggested that these past achievements could indicate potential for expanding partnerships into areas such as trade and business. They wondered what other characteristics of extraterrestrial civilizations could serve as predictors of future successful partnerships.\n",
    "\n",
    "**Your job** is to do EDA with the dataset to begin this analysis.\n",
    "**The goal** is to create a report that:\n",
    "1. Recommends variables that could serve as predictors of future successful partnerships to the council.\n",
    "2. Backs up your suggestions with numerical data and graphs.\n",
    "\n",
    "- Your dataset, `extraterrestrial_civilizations.csv` has a randomly selected set of 50 civilizations' information for the following variables:\n",
    "\n",
    "`Name_of_civilzation`: The civilization's name\n",
    "\n",
    "`Years_since_first_contact`: Number of years since humanity first made contact with this civilization. (0-300)\n",
    "\n",
    "`Technological_progress`: A measure of the civilization's overall technological progress on a scale from 1 to 100.\n",
    "\n",
    "`Diplomatic_relations_index`: A measure of diplomatic relations between Earth and the civilization on a scale from 1 to 10, with higher values indicating more positive relations.\n",
    "\n",
    "`Cultural_exchange_index`: A measure of the degree of cultural exchange between Earth and the  civilization on a scale from 1 to 10, with higher values indicating more exchange.\n",
    "\n",
    "`Joint_space_missions`: The number of joint space missions between Earth and the civilization.\n",
    "\n",
    "`Hostility_to_Earth_Index`: A measure of the civilization's hostility to Earth on a scale from 1 to 10, with higher values indicating more hostility.\n",
    "\n",
    "`Degree_of_positive_contact`: A continuous variable measuring the degree of positive  contact with Earth on a scale from 1 to 100, with higher values indicating more positive contact.\n",
    "\n"
   ]
  },
  {
   "cell_type": "markdown",
   "id": "aa0bb61a",
   "metadata": {},
   "source": [
    "Michael - Research Question\n",
    "Michael - Data Cleaning\n",
    "Michael - Scatter technological progress vs. hostility to earth index\n",
    "Praj - Non-target variable \n",
    "Praj - Conclusion"
   ]
  },
  {
   "cell_type": "markdown",
   "id": "0ac6f6cc-6cd9-420c-a2e0-440cfe4655f5",
   "metadata": {},
   "source": [
    "#### Question\n",
    "\n",
    "- State the question you aimed to answer clearly"
   ]
  },
  {
   "cell_type": "markdown",
   "id": "fe7a44ba-b963-49f9-9dca-fb4ad9e1e76b",
   "metadata": {},
   "source": [
    "**Do civilizations with higher technological progress have a lower hostility-to-Earth index?**"
   ]
  },
  {
   "cell_type": "markdown",
   "id": "12007d0e-9b8d-48eb-8487-ca18e733391b",
   "metadata": {},
   "source": [
    "#### Data Cleaning\n",
    "\n",
    "- Describe the data cleaning & transformation that you did.\n",
    "- Justify the decisions you made regarding outliers, missing values, and other transformations applied. "
   ]
  },
  {
   "cell_type": "code",
   "execution_count": 18,
   "id": "ed2109d3-f84d-4b98-9496-53db9dff35a3",
   "metadata": {},
   "outputs": [
    {
     "data": {
      "application/vnd.microsoft.datawrangler.viewer.v0+json": {
       "columns": [
        {
         "name": "index",
         "rawType": "int64",
         "type": "integer"
        },
        {
         "name": "Name_of_civilzation",
         "rawType": "object",
         "type": "string"
        },
        {
         "name": "Years_since_first_contact",
         "rawType": "float64",
         "type": "float"
        },
        {
         "name": "Technological_progress",
         "rawType": "float64",
         "type": "float"
        },
        {
         "name": "Diplomatic_relations_index",
         "rawType": "float64",
         "type": "float"
        },
        {
         "name": "Cultural_exchange_index",
         "rawType": "float64",
         "type": "float"
        },
        {
         "name": "Joint_space_missions",
         "rawType": "float64",
         "type": "float"
        },
        {
         "name": "Hostility_to_Earth_Index",
         "rawType": "float64",
         "type": "float"
        },
        {
         "name": "Degree_of_positive_contact",
         "rawType": "float64",
         "type": "float"
        },
        {
         "name": "body_type",
         "rawType": "object",
         "type": "string"
        },
        {
         "name": "communication_type",
         "rawType": "object",
         "type": "string"
        }
       ],
       "conversionMethod": "pd.DataFrame",
       "ref": "8ea9f81d-53b8-4592-9b41-44ce1feadb2e",
       "rows": [
        [
         "0",
         "Venusians",
         "50.0",
         "20.0",
         "7.0",
         "5.0",
         "1.0",
         "3.0",
         "55.0",
         "Animal-like",
         "verbal"
        ],
        [
         "1",
         "Gargeleblobs",
         "120.0",
         "85.0",
         "8.0",
         null,
         "12.0",
         "2.0",
         "88.0",
         "Animal-like",
         "pictorial"
        ],
        [
         "2",
         "Vogons",
         "75.0",
         "50.0",
         "6.0",
         null,
         "4.0",
         "4.0",
         "60.0",
         "Invertebrate-like",
         "verbal"
        ],
        [
         "3",
         "Betelgeusians",
         "200.0",
         "90.0",
         "9.0",
         null,
         "15.0",
         "1.0",
         "95.0",
         "Invertebrate-like",
         "telepathic"
        ],
        [
         "4",
         "Pluvarians",
         "150.0",
         "70.0",
         "7.0",
         null,
         "10.0",
         "3.0",
         "75.0",
         "Amorphous/Gel-like",
         "pictorial"
        ]
       ],
       "shape": {
        "columns": 10,
        "rows": 5
       }
      },
      "text/html": [
       "<div>\n",
       "<style scoped>\n",
       "    .dataframe tbody tr th:only-of-type {\n",
       "        vertical-align: middle;\n",
       "    }\n",
       "\n",
       "    .dataframe tbody tr th {\n",
       "        vertical-align: top;\n",
       "    }\n",
       "\n",
       "    .dataframe thead th {\n",
       "        text-align: right;\n",
       "    }\n",
       "</style>\n",
       "<table border=\"1\" class=\"dataframe\">\n",
       "  <thead>\n",
       "    <tr style=\"text-align: right;\">\n",
       "      <th></th>\n",
       "      <th>Name_of_civilzation</th>\n",
       "      <th>Years_since_first_contact</th>\n",
       "      <th>Technological_progress</th>\n",
       "      <th>Diplomatic_relations_index</th>\n",
       "      <th>Cultural_exchange_index</th>\n",
       "      <th>Joint_space_missions</th>\n",
       "      <th>Hostility_to_Earth_Index</th>\n",
       "      <th>Degree_of_positive_contact</th>\n",
       "      <th>body_type</th>\n",
       "      <th>communication_type</th>\n",
       "    </tr>\n",
       "  </thead>\n",
       "  <tbody>\n",
       "    <tr>\n",
       "      <th>0</th>\n",
       "      <td>Venusians</td>\n",
       "      <td>50.0</td>\n",
       "      <td>20.0</td>\n",
       "      <td>7.0</td>\n",
       "      <td>5.0</td>\n",
       "      <td>1.0</td>\n",
       "      <td>3.0</td>\n",
       "      <td>55.0</td>\n",
       "      <td>Animal-like</td>\n",
       "      <td>verbal</td>\n",
       "    </tr>\n",
       "    <tr>\n",
       "      <th>1</th>\n",
       "      <td>Gargeleblobs</td>\n",
       "      <td>120.0</td>\n",
       "      <td>85.0</td>\n",
       "      <td>8.0</td>\n",
       "      <td>NaN</td>\n",
       "      <td>12.0</td>\n",
       "      <td>2.0</td>\n",
       "      <td>88.0</td>\n",
       "      <td>Animal-like</td>\n",
       "      <td>pictorial</td>\n",
       "    </tr>\n",
       "    <tr>\n",
       "      <th>2</th>\n",
       "      <td>Vogons</td>\n",
       "      <td>75.0</td>\n",
       "      <td>50.0</td>\n",
       "      <td>6.0</td>\n",
       "      <td>NaN</td>\n",
       "      <td>4.0</td>\n",
       "      <td>4.0</td>\n",
       "      <td>60.0</td>\n",
       "      <td>Invertebrate-like</td>\n",
       "      <td>verbal</td>\n",
       "    </tr>\n",
       "    <tr>\n",
       "      <th>3</th>\n",
       "      <td>Betelgeusians</td>\n",
       "      <td>200.0</td>\n",
       "      <td>90.0</td>\n",
       "      <td>9.0</td>\n",
       "      <td>NaN</td>\n",
       "      <td>15.0</td>\n",
       "      <td>1.0</td>\n",
       "      <td>95.0</td>\n",
       "      <td>Invertebrate-like</td>\n",
       "      <td>telepathic</td>\n",
       "    </tr>\n",
       "    <tr>\n",
       "      <th>4</th>\n",
       "      <td>Pluvarians</td>\n",
       "      <td>150.0</td>\n",
       "      <td>70.0</td>\n",
       "      <td>7.0</td>\n",
       "      <td>NaN</td>\n",
       "      <td>10.0</td>\n",
       "      <td>3.0</td>\n",
       "      <td>75.0</td>\n",
       "      <td>Amorphous/Gel-like</td>\n",
       "      <td>pictorial</td>\n",
       "    </tr>\n",
       "  </tbody>\n",
       "</table>\n",
       "</div>"
      ],
      "text/plain": [
       "  Name_of_civilzation  Years_since_first_contact  Technological_progress  \\\n",
       "0           Venusians                       50.0                    20.0   \n",
       "1        Gargeleblobs                      120.0                    85.0   \n",
       "2              Vogons                       75.0                    50.0   \n",
       "3       Betelgeusians                      200.0                    90.0   \n",
       "4          Pluvarians                      150.0                    70.0   \n",
       "\n",
       "   Diplomatic_relations_index  Cultural_exchange_index  Joint_space_missions  \\\n",
       "0                         7.0                      5.0                   1.0   \n",
       "1                         8.0                      NaN                  12.0   \n",
       "2                         6.0                      NaN                   4.0   \n",
       "3                         9.0                      NaN                  15.0   \n",
       "4                         7.0                      NaN                  10.0   \n",
       "\n",
       "   Hostility_to_Earth_Index  Degree_of_positive_contact           body_type  \\\n",
       "0                       3.0                        55.0         Animal-like   \n",
       "1                       2.0                        88.0         Animal-like   \n",
       "2                       4.0                        60.0   Invertebrate-like   \n",
       "3                       1.0                        95.0   Invertebrate-like   \n",
       "4                       3.0                        75.0  Amorphous/Gel-like   \n",
       "\n",
       "  communication_type  \n",
       "0             verbal  \n",
       "1          pictorial  \n",
       "2             verbal  \n",
       "3         telepathic  \n",
       "4          pictorial  "
      ]
     },
     "execution_count": 18,
     "metadata": {},
     "output_type": "execute_result"
    }
   ],
   "source": [
    "import pandas as pd\n",
    "import matplotlib.pyplot as plt\n",
    "import numpy as np\n",
    "\n",
    "# read the CSV file into a pandas DataFrame \n",
    "et_data = pd.read_csv(\"Extraterrestrial_civilizations.csv\")\n",
    "\n",
    "# display the first five rows\n",
    "et_data.head()"
   ]
  },
  {
   "cell_type": "code",
   "execution_count": 19,
   "id": "1068f44a",
   "metadata": {},
   "outputs": [
    {
     "name": "stdout",
     "output_type": "stream",
     "text": [
      "Name_of_civilzation            0.000000\n",
      "Years_since_first_contact      0.000000\n",
      "Technological_progress         0.000000\n",
      "Diplomatic_relations_index     0.000000\n",
      "Cultural_exchange_index       66.666667\n",
      "Joint_space_missions           0.000000\n",
      "Hostility_to_Earth_Index       0.000000\n",
      "Degree_of_positive_contact     0.000000\n",
      "body_type                      0.000000\n",
      "communication_type             0.000000\n",
      "dtype: float64\n"
     ]
    }
   ],
   "source": [
    "#2 Calculate the percentage of missing data for those variables\n",
    "# Create a DataFrame of boolean values with True for missing values and False if there is not a missing value at that position:\n",
    "missing_values = et_data.isnull()\n",
    "\n",
    "#Calculate the percentage of missing data for each column\n",
    "missing_percent = et_data.isnull().mean() * 100\n",
    "\n",
    "#Display missing_percentages\n",
    "print(missing_percent)"
   ]
  },
  {
   "cell_type": "code",
   "execution_count": 20,
   "id": "0918fb18",
   "metadata": {},
   "outputs": [],
   "source": [
    "# Drop Cultural Exchange Index since mostly empty\n",
    "et_data.drop('Cultural_exchange_index', axis=1, inplace=True)"
   ]
  },
  {
   "cell_type": "code",
   "execution_count": 21,
   "id": "d4f561ca",
   "metadata": {},
   "outputs": [
    {
     "data": {
      "image/png": "[encoded data removed]",
      "text/plain": [
       "<Figure size 640x480 with 1 Axes>"
      ]
     },
     "metadata": {},
     "output_type": "display_data"
    }
   ],
   "source": [
    "import matplotlib.pyplot as plt\n",
    "et_data.boxplot('Hostility_to_Earth_Index')\n",
    "plt.show()"
   ]
  },
  {
   "cell_type": "code",
   "execution_count": 22,
   "id": "906d9e48",
   "metadata": {},
   "outputs": [],
   "source": [
    "# Replace Hostility to Earth Index outliers (value greater than 34) with median value\n",
    "median_val = et_data['Hostility_to_Earth_Index'].median()\n",
    "\n",
    "et_data.loc[et_data['Hostility_to_Earth_Index'] > 34, 'Hostility_to_Earth_Index'] = median_val"
   ]
  },
  {
   "cell_type": "code",
   "execution_count": 23,
   "id": "dd0d6cd8",
   "metadata": {},
   "outputs": [
    {
     "data": {
      "application/vnd.microsoft.datawrangler.viewer.v0+json": {
       "columns": [
        {
         "name": "index",
         "rawType": "int64",
         "type": "integer"
        },
        {
         "name": "Name_of_civilzation",
         "rawType": "object",
         "type": "string"
        },
        {
         "name": "Years_since_first_contact",
         "rawType": "float64",
         "type": "float"
        },
        {
         "name": "Technological_progress",
         "rawType": "float64",
         "type": "float"
        },
        {
         "name": "Diplomatic_relations_index",
         "rawType": "float64",
         "type": "float"
        },
        {
         "name": "Joint_space_missions",
         "rawType": "float64",
         "type": "float"
        },
        {
         "name": "Hostility_to_Earth_Index",
         "rawType": "float64",
         "type": "float"
        },
        {
         "name": "Degree_of_positive_contact",
         "rawType": "float64",
         "type": "float"
        },
        {
         "name": "body_type",
         "rawType": "object",
         "type": "string"
        },
        {
         "name": "communication_type",
         "rawType": "object",
         "type": "string"
        }
       ],
       "conversionMethod": "pd.DataFrame",
       "ref": "6f299a7a-cf83-4743-96ef-8d7e3937d59e",
       "rows": [
        [
         "0",
         "Venusians",
         "50.0",
         "20.0",
         "7.0",
         "1.0",
         "3.0",
         "55.0",
         "Animal-like",
         "verbal"
        ],
        [
         "1",
         "Gargeleblobs",
         "120.0",
         "85.0",
         "8.0",
         "12.0",
         "2.0",
         "88.0",
         "Animal-like",
         "pictorial"
        ],
        [
         "2",
         "Vogons",
         "75.0",
         "50.0",
         "6.0",
         "4.0",
         "4.0",
         "60.0",
         "Invertebrate-like",
         "verbal"
        ],
        [
         "3",
         "Betelgeusians",
         "200.0",
         "90.0",
         "9.0",
         "15.0",
         "1.0",
         "95.0",
         "Invertebrate-like",
         "telepathic"
        ],
        [
         "4",
         "Pluvarians",
         "150.0",
         "70.0",
         "7.0",
         "10.0",
         "3.0",
         "75.0",
         "Amorphous/Gel-like",
         "pictorial"
        ],
        [
         "5",
         "Xytrons",
         "10.0",
         "30.0",
         "4.0",
         "0.0",
         "6.0",
         "40.0",
         "Amorphous/Gel-like",
         "pictorial"
        ],
        [
         "6",
         "Zarblatts",
         "80.0",
         "60.0",
         "14.0",
         "8.0",
         "2.0",
         "70.0",
         "Invertebrate-like",
         "verbal"
        ],
        [
         "7",
         "Kritons",
         "175.0",
         "95.0",
         "9.0",
         "20.0",
         "1.0",
         "98.0",
         "Invertebrate-like",
         "pictorial"
        ],
        [
         "8",
         "Qooglians",
         "20.0",
         "25.0",
         "3.0",
         "1.0",
         "5.0",
         "30.0",
         "Animal-like",
         "telepathic"
        ],
        [
         "9",
         "Thumbers",
         "100.0",
         "80.0",
         "5.0",
         "7.0",
         "3.0",
         "83.0",
         "Humanoid",
         "verbal"
        ],
        [
         "10",
         "Alphatrons",
         "40.0",
         "15.0",
         "4.0",
         "0.0",
         "5.0",
         "25.0",
         "Animal-like",
         "telepathic"
        ],
        [
         "11",
         "Buzarthians",
         "90.0",
         "55.0",
         "6.0",
         "5.0",
         "3.0",
         "62.0",
         "Amorphous/Gel-like",
         "telepathic"
        ],
        [
         "12",
         "Qooglians",
         "20.0",
         "25.0",
         "3.0",
         "1.0",
         "5.0",
         "30.0",
         "Invertebrate-like",
         "telepathic"
        ],
        [
         "13",
         "Cryloxians",
         "60.0",
         "35.0",
         "7.0",
         "2.0",
         "4.0",
         "45.0",
         "Humanoid",
         "verbal"
        ],
        [
         "14",
         "Deltavians",
         "110.0",
         "75.0",
         "8.0",
         "10.0",
         "2.0",
         "80.0",
         "Animal-like",
         "telepathic"
        ]
       ],
       "shape": {
        "columns": 9,
        "rows": 15
       }
      },
      "text/html": [
       "<div>\n",
       "<style scoped>\n",
       "    .dataframe tbody tr th:only-of-type {\n",
       "        vertical-align: middle;\n",
       "    }\n",
       "\n",
       "    .dataframe tbody tr th {\n",
       "        vertical-align: top;\n",
       "    }\n",
       "\n",
       "    .dataframe thead th {\n",
       "        text-align: right;\n",
       "    }\n",
       "</style>\n",
       "<table border=\"1\" class=\"dataframe\">\n",
       "  <thead>\n",
       "    <tr style=\"text-align: right;\">\n",
       "      <th></th>\n",
       "      <th>Name_of_civilzation</th>\n",
       "      <th>Years_since_first_contact</th>\n",
       "      <th>Technological_progress</th>\n",
       "      <th>Diplomatic_relations_index</th>\n",
       "      <th>Joint_space_missions</th>\n",
       "      <th>Hostility_to_Earth_Index</th>\n",
       "      <th>Degree_of_positive_contact</th>\n",
       "      <th>body_type</th>\n",
       "      <th>communication_type</th>\n",
       "    </tr>\n",
       "  </thead>\n",
       "  <tbody>\n",
       "    <tr>\n",
       "      <th>0</th>\n",
       "      <td>Venusians</td>\n",
       "      <td>50.0</td>\n",
       "      <td>20.0</td>\n",
       "      <td>7.0</td>\n",
       "      <td>1.0</td>\n",
       "      <td>3.0</td>\n",
       "      <td>55.0</td>\n",
       "      <td>Animal-like</td>\n",
       "      <td>verbal</td>\n",
       "    </tr>\n",
       "    <tr>\n",
       "      <th>1</th>\n",
       "      <td>Gargeleblobs</td>\n",
       "      <td>120.0</td>\n",
       "      <td>85.0</td>\n",
       "      <td>8.0</td>\n",
       "      <td>12.0</td>\n",
       "      <td>2.0</td>\n",
       "      <td>88.0</td>\n",
       "      <td>Animal-like</td>\n",
       "      <td>pictorial</td>\n",
       "    </tr>\n",
       "    <tr>\n",
       "      <th>2</th>\n",
       "      <td>Vogons</td>\n",
       "      <td>75.0</td>\n",
       "      <td>50.0</td>\n",
       "      <td>6.0</td>\n",
       "      <td>4.0</td>\n",
       "      <td>4.0</td>\n",
       "      <td>60.0</td>\n",
       "      <td>Invertebrate-like</td>\n",
       "      <td>verbal</td>\n",
       "    </tr>\n",
       "    <tr>\n",
       "      <th>3</th>\n",
       "      <td>Betelgeusians</td>\n",
       "      <td>200.0</td>\n",
       "      <td>90.0</td>\n",
       "      <td>9.0</td>\n",
       "      <td>15.0</td>\n",
       "      <td>1.0</td>\n",
       "      <td>95.0</td>\n",
       "      <td>Invertebrate-like</td>\n",
       "      <td>telepathic</td>\n",
       "    </tr>\n",
       "    <tr>\n",
       "      <th>4</th>\n",
       "      <td>Pluvarians</td>\n",
       "      <td>150.0</td>\n",
       "      <td>70.0</td>\n",
       "      <td>7.0</td>\n",
       "      <td>10.0</td>\n",
       "      <td>3.0</td>\n",
       "      <td>75.0</td>\n",
       "      <td>Amorphous/Gel-like</td>\n",
       "      <td>pictorial</td>\n",
       "    </tr>\n",
       "    <tr>\n",
       "      <th>5</th>\n",
       "      <td>Xytrons</td>\n",
       "      <td>10.0</td>\n",
       "      <td>30.0</td>\n",
       "      <td>4.0</td>\n",
       "      <td>0.0</td>\n",
       "      <td>6.0</td>\n",
       "      <td>40.0</td>\n",
       "      <td>Amorphous/Gel-like</td>\n",
       "      <td>pictorial</td>\n",
       "    </tr>\n",
       "    <tr>\n",
       "      <th>6</th>\n",
       "      <td>Zarblatts</td>\n",
       "      <td>80.0</td>\n",
       "      <td>60.0</td>\n",
       "      <td>14.0</td>\n",
       "      <td>8.0</td>\n",
       "      <td>2.0</td>\n",
       "      <td>70.0</td>\n",
       "      <td>Invertebrate-like</td>\n",
       "      <td>verbal</td>\n",
       "    </tr>\n",
       "    <tr>\n",
       "      <th>7</th>\n",
       "      <td>Kritons</td>\n",
       "      <td>175.0</td>\n",
       "      <td>95.0</td>\n",
       "      <td>9.0</td>\n",
       "      <td>20.0</td>\n",
       "      <td>1.0</td>\n",
       "      <td>98.0</td>\n",
       "      <td>Invertebrate-like</td>\n",
       "      <td>pictorial</td>\n",
       "    </tr>\n",
       "    <tr>\n",
       "      <th>8</th>\n",
       "      <td>Qooglians</td>\n",
       "      <td>20.0</td>\n",
       "      <td>25.0</td>\n",
       "      <td>3.0</td>\n",
       "      <td>1.0</td>\n",
       "      <td>5.0</td>\n",
       "      <td>30.0</td>\n",
       "      <td>Animal-like</td>\n",
       "      <td>telepathic</td>\n",
       "    </tr>\n",
       "    <tr>\n",
       "      <th>9</th>\n",
       "      <td>Thumbers</td>\n",
       "      <td>100.0</td>\n",
       "      <td>80.0</td>\n",
       "      <td>5.0</td>\n",
       "      <td>7.0</td>\n",
       "      <td>3.0</td>\n",
       "      <td>83.0</td>\n",
       "      <td>Humanoid</td>\n",
       "      <td>verbal</td>\n",
       "    </tr>\n",
       "    <tr>\n",
       "      <th>10</th>\n",
       "      <td>Alphatrons</td>\n",
       "      <td>40.0</td>\n",
       "      <td>15.0</td>\n",
       "      <td>4.0</td>\n",
       "      <td>0.0</td>\n",
       "      <td>5.0</td>\n",
       "      <td>25.0</td>\n",
       "      <td>Animal-like</td>\n",
       "      <td>telepathic</td>\n",
       "    </tr>\n",
       "    <tr>\n",
       "      <th>11</th>\n",
       "      <td>Buzarthians</td>\n",
       "      <td>90.0</td>\n",
       "      <td>55.0</td>\n",
       "      <td>6.0</td>\n",
       "      <td>5.0</td>\n",
       "      <td>3.0</td>\n",
       "      <td>62.0</td>\n",
       "      <td>Amorphous/Gel-like</td>\n",
       "      <td>telepathic</td>\n",
       "    </tr>\n",
       "    <tr>\n",
       "      <th>12</th>\n",
       "      <td>Qooglians</td>\n",
       "      <td>20.0</td>\n",
       "      <td>25.0</td>\n",
       "      <td>3.0</td>\n",
       "      <td>1.0</td>\n",
       "      <td>5.0</td>\n",
       "      <td>30.0</td>\n",
       "      <td>Invertebrate-like</td>\n",
       "      <td>telepathic</td>\n",
       "    </tr>\n",
       "    <tr>\n",
       "      <th>13</th>\n",
       "      <td>Cryloxians</td>\n",
       "      <td>60.0</td>\n",
       "      <td>35.0</td>\n",
       "      <td>7.0</td>\n",
       "      <td>2.0</td>\n",
       "      <td>4.0</td>\n",
       "      <td>45.0</td>\n",
       "      <td>Humanoid</td>\n",
       "      <td>verbal</td>\n",
       "    </tr>\n",
       "    <tr>\n",
       "      <th>14</th>\n",
       "      <td>Deltavians</td>\n",
       "      <td>110.0</td>\n",
       "      <td>75.0</td>\n",
       "      <td>8.0</td>\n",
       "      <td>10.0</td>\n",
       "      <td>2.0</td>\n",
       "      <td>80.0</td>\n",
       "      <td>Animal-like</td>\n",
       "      <td>telepathic</td>\n",
       "    </tr>\n",
       "  </tbody>\n",
       "</table>\n",
       "</div>"
      ],
      "text/plain": [
       "   Name_of_civilzation  Years_since_first_contact  Technological_progress  \\\n",
       "0            Venusians                       50.0                    20.0   \n",
       "1         Gargeleblobs                      120.0                    85.0   \n",
       "2               Vogons                       75.0                    50.0   \n",
       "3        Betelgeusians                      200.0                    90.0   \n",
       "4           Pluvarians                      150.0                    70.0   \n",
       "5              Xytrons                       10.0                    30.0   \n",
       "6            Zarblatts                       80.0                    60.0   \n",
       "7              Kritons                      175.0                    95.0   \n",
       "8            Qooglians                       20.0                    25.0   \n",
       "9             Thumbers                      100.0                    80.0   \n",
       "10          Alphatrons                       40.0                    15.0   \n",
       "11         Buzarthians                       90.0                    55.0   \n",
       "12           Qooglians                       20.0                    25.0   \n",
       "13          Cryloxians                       60.0                    35.0   \n",
       "14          Deltavians                      110.0                    75.0   \n",
       "\n",
       "    Diplomatic_relations_index  Joint_space_missions  \\\n",
       "0                          7.0                   1.0   \n",
       "1                          8.0                  12.0   \n",
       "2                          6.0                   4.0   \n",
       "3                          9.0                  15.0   \n",
       "4                          7.0                  10.0   \n",
       "5                          4.0                   0.0   \n",
       "6                         14.0                   8.0   \n",
       "7                          9.0                  20.0   \n",
       "8                          3.0                   1.0   \n",
       "9                          5.0                   7.0   \n",
       "10                         4.0                   0.0   \n",
       "11                         6.0                   5.0   \n",
       "12                         3.0                   1.0   \n",
       "13                         7.0                   2.0   \n",
       "14                         8.0                  10.0   \n",
       "\n",
       "    Hostility_to_Earth_Index  Degree_of_positive_contact           body_type  \\\n",
       "0                        3.0                        55.0         Animal-like   \n",
       "1                        2.0                        88.0         Animal-like   \n",
       "2                        4.0                        60.0   Invertebrate-like   \n",
       "3                        1.0                        95.0   Invertebrate-like   \n",
       "4                        3.0                        75.0  Amorphous/Gel-like   \n",
       "5                        6.0                        40.0  Amorphous/Gel-like   \n",
       "6                        2.0                        70.0   Invertebrate-like   \n",
       "7                        1.0                        98.0   Invertebrate-like   \n",
       "8                        5.0                        30.0         Animal-like   \n",
       "9                        3.0                        83.0            Humanoid   \n",
       "10                       5.0                        25.0         Animal-like   \n",
       "11                       3.0                        62.0  Amorphous/Gel-like   \n",
       "12                       5.0                        30.0   Invertebrate-like   \n",
       "13                       4.0                        45.0            Humanoid   \n",
       "14                       2.0                        80.0         Animal-like   \n",
       "\n",
       "   communication_type  \n",
       "0              verbal  \n",
       "1           pictorial  \n",
       "2              verbal  \n",
       "3          telepathic  \n",
       "4           pictorial  \n",
       "5           pictorial  \n",
       "6              verbal  \n",
       "7           pictorial  \n",
       "8          telepathic  \n",
       "9              verbal  \n",
       "10         telepathic  \n",
       "11         telepathic  \n",
       "12         telepathic  \n",
       "13             verbal  \n",
       "14         telepathic  "
      ]
     },
     "execution_count": 23,
     "metadata": {},
     "output_type": "execute_result"
    }
   ],
   "source": [
    "et_data.head(15)"
   ]
  },
  {
   "cell_type": "markdown",
   "id": "6b7e2d43-f6b0-41fc-8512-461bb3c638e2",
   "metadata": {},
   "source": [
    "#### Results & Recommendations\n"
   ]
  },
  {
   "cell_type": "markdown",
   "id": "ef389e29",
   "metadata": {},
   "source": [
    "We begin with a scatter plot of the hostility to earth index vs technological progress, including a correlation coefficient, to assess how linearly related these characteristics are."
   ]
  },
  {
   "cell_type": "code",
   "execution_count": null,
   "id": "214f4e08-8fce-48bb-9558-0409a2ec6152",
   "metadata": {},
   "outputs": [
    {
     "data": {
      "image/png": "[encoded data removed]",
      "text/plain": [
       "<Figure size 640x480 with 1 Axes>"
      ]
     },
     "metadata": {},
     "output_type": "display_data"
    }
   ],
   "source": [
    "# Scatter plot of Hostility to Earth Index vs Technological progress\n",
    "x = et_data['Technological_progress']\n",
    "y = et_data['Hostility_to_Earth_Index']\n",
    "# Add best fit line\n",
    "z = np.polyfit(x, y, 1)\n",
    "p = np.poly1d(z)\n",
    "y_hat = p(x)\n",
    "corr = x.corr(y)\n",
    "plt.scatter(x, y)\n",
    "plt.plot(x, y_hat, color='red', label = \"Best Fit Line\")\n",
    "plt.title(\"Civilizations' Hostility to Earth\")\n",
    "plt.xlabel('Technological Progress')\n",
    "plt.ylabel('Hostility to Earth Index')\n",
    "plt.legend()\n",
    "plt.annotate(f'R= {corr:.2f}', xy=(0.725, 0.85), xycoords='axes fraction', fontsize=10,\n",
    "             bbox=dict(boxstyle='round,pad=0.3', edgecolor='lightgray', facecolor='white'))\n",
    "plt.show()\n"
   ]
  },
  {
   "cell_type": "markdown",
   "id": "c159397c",
   "metadata": {},
   "source": [
    "This shows pretty strong correlation, but is there a more highly correlated variable? Turns out there is:"
   ]
  },
  {
   "cell_type": "code",
   "execution_count": null,
   "id": "d2a0e277",
   "metadata": {},
   "outputs": [
    {
     "data": {
      "image/png": "[encoded data removed]",
      "text/plain": [
       "<Figure size 640x480 with 1 Axes>"
      ]
     },
     "metadata": {},
     "output_type": "display_data"
    }
   ],
   "source": [
    "# Scatter plot of Hostility to Earth Index vs Positive contact \n",
    "x = et_data['Degree_of_positive_contact']\n",
    "y = et_data['Hostility_to_Earth_Index']\n",
    "# Add best fit line\n",
    "z = np.polyfit(x, y, 1)\n",
    "p = np.poly1d(z)\n",
    "y_hat = p(x)\n",
    "corr = x.corr(y)\n",
    "plt.scatter(x, y)\n",
    "plt.plot(x, y_hat, color='red', label = \"Best Fit Line\")\n",
    "plt.title(\"Civilizations' Hostility to Earth\")\n",
    "plt.xlabel('Degree of Positive Contact')\n",
    "plt.ylabel('Hostility to Earth Index')\n",
    "plt.legend()\n",
    "plt.annotate(f'R= {corr:.2f}', xy=(0.725, 0.85), xycoords='axes fraction', fontsize=10,\n",
    "             bbox=dict(boxstyle='round,pad=0.3', edgecolor='lightgray', facecolor='white'))\n",
    "plt.show()"
   ]
  },
  {
   "cell_type": "markdown",
   "id": "a33eb3be",
   "metadata": {},
   "source": [
    "Comparing the correlation coefficient for hostility to earth vs degree of positive contact, we find that it is stonger than for technological progress.\n",
    "\n",
    "Interestingly, the diplomatic relations index is less strongly correlated with hostility."
   ]
  },
  {
   "cell_type": "code",
   "execution_count": null,
   "id": "b0000d98",
   "metadata": {},
   "outputs": [
    {
     "data": {
      "image/png": "[encoded data removed]",
      "text/plain": [
       "<Figure size 640x480 with 1 Axes>"
      ]
     },
     "metadata": {},
     "output_type": "display_data"
    }
   ],
   "source": [
    "# Scatter plot of Hostility to Earth Index vs Diplomatic_relations_index \n",
    "x = et_data['Diplomatic_relations_index']\n",
    "y = et_data['Hostility_to_Earth_Index']\n",
    "# Add best fit line\n",
    "z = np.polyfit(x, y, 1)\n",
    "p = np.poly1d(z)\n",
    "y_hat = p(x)\n",
    "corr = x.corr(y)\n",
    "plt.scatter(x, y)\n",
    "plt.plot(x, y_hat, color='red', label = \"Best Fit Line\")\n",
    "plt.title(\"Civilizations' Hostility to Earth\")\n",
    "plt.xlabel('Diplomatic Relations Index')\n",
    "plt.ylabel('Hostility to Earth Index')\n",
    "plt.legend()\n",
    "plt.annotate(f'R= {corr:.2f}', xy=(0.725, 0.85), xycoords='axes fraction', fontsize=10,\n",
    "             bbox=dict(boxstyle='round,pad=0.3', edgecolor='lightgray', facecolor='white'))\n",
    "plt.show()"
   ]
  },
  {
   "cell_type": "markdown",
   "id": "f2b977bd",
   "metadata": {},
   "source": [
    "#### Conclusions and Recommendations"
   ]
  },
  {
   "cell_type": "markdown",
   "id": "d28f322f",
   "metadata": {},
   "source": [
    "While our initial variable (technological progress) did indeed reveal a strong correlation with hostility to Earth and may could be a good choice for assessing the viability of future collaboration with extraterrestrial civilizations. \n",
    "\n",
    "Degree of positive contact does have higher correlation and could be a better predictor of amount of hostility. However, we would point out that it is likely more expeditious to scertain a newly contacted civilization's technological prowess than to wait until there is enough data on the new civilization to establish a 'degree of positive contact' score."
   ]
  },
  {
   "cell_type": "markdown",
   "id": "2e717a73",
   "metadata": {},
   "source": []
  }
 ],
 "metadata": {
  "environment": {
   "kernel": "python3",
   "name": "common-cpu.m87",
   "type": "gcloud",
   "uri": "gcr.io/deeplearning-platform-release/base-cpu:m87"
  },
  "kernelspec": {
   "display_name": "base",
   "language": "python",
   "name": "python3"
  },
  "language_info": {
   "codemirror_mode": {
    "name": "ipython",
    "version": 3
   },
   "file_extension": ".py",
   "mimetype": "text/x-python",
   "name": "python",
   "nbconvert_exporter": "python",
   "pygments_lexer": "ipython3",
   "version": "3.12.2"
  }
 },
 "nbformat": 4,
 "nbformat_minor": 5
}
